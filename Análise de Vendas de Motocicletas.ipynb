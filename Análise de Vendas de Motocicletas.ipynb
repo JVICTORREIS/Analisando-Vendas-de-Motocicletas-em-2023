{
 "cells": [
  {
   "cell_type": "markdown",
   "id": "51ffdbfe",
   "metadata": {},
   "source": [
    "# Analisando Vendas de Motocicletas em 2023"
   ]
  },
  {
   "cell_type": "markdown",
   "id": "3dec9bb4",
   "metadata": {},
   "source": [
    "## Extraindo Dados "
   ]
  },
  {
   "cell_type": "code",
   "execution_count": 3,
   "id": "08ea3fa5",
   "metadata": {},
   "outputs": [
    {
     "name": "stdout",
     "output_type": "stream",
     "text": [
      "Requirement already satisfied: requests in c:\\users\\profj\\anaconda3\\lib\\site-packages (2.28.1)\n",
      "Requirement already satisfied: charset-normalizer<3,>=2 in c:\\users\\profj\\anaconda3\\lib\\site-packages (from requests) (2.0.4)\n",
      "Requirement already satisfied: certifi>=2017.4.17 in c:\\users\\profj\\anaconda3\\lib\\site-packages (from requests) (2022.9.14)\n",
      "Requirement already satisfied: urllib3<1.27,>=1.21.1 in c:\\users\\profj\\anaconda3\\lib\\site-packages (from requests) (1.26.11)\n",
      "Requirement already satisfied: idna<4,>=2.5 in c:\\users\\profj\\anaconda3\\lib\\site-packages (from requests) (3.3)\n",
      "Requirement already satisfied: beautifulsoup4 in c:\\users\\profj\\anaconda3\\lib\\site-packages (4.11.1)\n",
      "Requirement already satisfied: soupsieve>1.2 in c:\\users\\profj\\anaconda3\\lib\\site-packages (from beautifulsoup4) (2.3.1)\n",
      "Requirement already satisfied: html5lib in c:\\users\\profj\\anaconda3\\lib\\site-packages (1.1)\n",
      "Requirement already satisfied: webencodings in c:\\users\\profj\\anaconda3\\lib\\site-packages (from html5lib) (0.5.1)\n",
      "Requirement already satisfied: six>=1.9 in c:\\users\\profj\\anaconda3\\lib\\site-packages (from html5lib) (1.16.0)\n"
     ]
    }
   ],
   "source": [
    "# Instalando as Bibliotecas \n",
    "\n",
    "!pip install requests\n",
    "!pip install beautifulsoup4\n",
    "!pip install html5lib"
   ]
  },
  {
   "cell_type": "code",
   "execution_count": 4,
   "id": "59e5f84e",
   "metadata": {},
   "outputs": [],
   "source": [
    "# Importando as Bibliotecas \n",
    "\n",
    "import pandas as pd\n",
    "import matplotlib.pyplot as plt\n",
    "import seaborn as sns\n",
    "import requests \n",
    "from bs4 import BeautifulSoup"
   ]
  },
  {
   "cell_type": "code",
   "execution_count": 5,
   "id": "472f57ec",
   "metadata": {},
   "outputs": [
    {
     "name": "stdout",
     "output_type": "stream",
     "text": [
      "A requisição foi bem-sucedida!\n"
     ]
    }
   ],
   "source": [
    "# Enviando Requisição para o site \n",
    "\n",
    "res = requests.get('https://www.motoo.com.br/emplacamentos/motos-mais-vendidas/2023/')\n",
    "\n",
    "# Verificando se a requisição foi bem sucedida\n",
    "\n",
    "if res.status_code == 200:\n",
    "    print(\"A requisição foi bem-sucedida!\")"
   ]
  },
  {
   "cell_type": "code",
   "execution_count": 6,
   "id": "8d66000c",
   "metadata": {},
   "outputs": [],
   "source": [
    "# Realizando o Parser\n",
    "\n",
    "soup = BeautifulSoup(res.content, 'html.parser')"
   ]
  },
  {
   "cell_type": "code",
   "execution_count": 7,
   "id": "8c43cc7f",
   "metadata": {},
   "outputs": [],
   "source": [
    "# Encontrando os Dados \n",
    "\n",
    "table = soup.find('table')\n",
    "\n",
    "# Extraindo os cabeçalhos das colunas\n",
    "headers = []\n",
    "for th in table.find_all('th'):\n",
    "    headers.append(th.text.strip())\n",
    "\n",
    "# Extraindo os dados das células\n",
    "data = []\n",
    "for row in table.find_all('tr'):\n",
    "    row_data = []\n",
    "    for td in row.find_all('td'):\n",
    "        row_data.append(td.text.strip())\n",
    "    if row_data:\n",
    "        data.append(row_data)\n",
    "\n",
    "# Criando o DataFrame\n",
    "df = pd.DataFrame(data, columns=headers)"
   ]
  },
  {
   "cell_type": "markdown",
   "id": "fa11e439",
   "metadata": {},
   "source": [
    "## Análise Exploratória "
   ]
  },
  {
   "cell_type": "code",
   "execution_count": 8,
   "id": "05a16554",
   "metadata": {},
   "outputs": [
    {
     "data": {
      "text/html": [
       "<div>\n",
       "<style scoped>\n",
       "    .dataframe tbody tr th:only-of-type {\n",
       "        vertical-align: middle;\n",
       "    }\n",
       "\n",
       "    .dataframe tbody tr th {\n",
       "        vertical-align: top;\n",
       "    }\n",
       "\n",
       "    .dataframe thead th {\n",
       "        text-align: right;\n",
       "    }\n",
       "</style>\n",
       "<table border=\"1\" class=\"dataframe\">\n",
       "  <thead>\n",
       "    <tr style=\"text-align: right;\">\n",
       "      <th></th>\n",
       "      <th>Pos.</th>\n",
       "      <th>Veículo</th>\n",
       "      <th>Jan</th>\n",
       "      <th>Fev</th>\n",
       "      <th>Mar</th>\n",
       "      <th>Abr</th>\n",
       "      <th>Mai</th>\n",
       "      <th>Jun</th>\n",
       "      <th>Jul</th>\n",
       "      <th>Ago</th>\n",
       "      <th>Set</th>\n",
       "      <th>Out</th>\n",
       "      <th>Nov</th>\n",
       "      <th>Dez</th>\n",
       "      <th>Total</th>\n",
       "    </tr>\n",
       "  </thead>\n",
       "  <tbody>\n",
       "    <tr>\n",
       "      <th>0</th>\n",
       "      <td>1º</td>\n",
       "      <td>Honda CG 160</td>\n",
       "      <td>30.386</td>\n",
       "      <td>27.109</td>\n",
       "      <td>39.754</td>\n",
       "      <td>33.689</td>\n",
       "      <td>43.444</td>\n",
       "      <td>36.194</td>\n",
       "      <td>29.862</td>\n",
       "      <td>36.843</td>\n",
       "      <td>34.991</td>\n",
       "      <td>34.097</td>\n",
       "      <td>35.611</td>\n",
       "      <td>36.802</td>\n",
       "      <td>418.782</td>\n",
       "    </tr>\n",
       "    <tr>\n",
       "      <th>1</th>\n",
       "      <td>2º</td>\n",
       "      <td>Honda NXR 160 Bros</td>\n",
       "      <td>10.104</td>\n",
       "      <td>9.474</td>\n",
       "      <td>14.103</td>\n",
       "      <td>11.443</td>\n",
       "      <td>15.455</td>\n",
       "      <td>13.492</td>\n",
       "      <td>11.588</td>\n",
       "      <td>14.119</td>\n",
       "      <td>12.261</td>\n",
       "      <td>12.619</td>\n",
       "      <td>12.398</td>\n",
       "      <td>12.664</td>\n",
       "      <td>149.720</td>\n",
       "    </tr>\n",
       "    <tr>\n",
       "      <th>2</th>\n",
       "      <td>3º</td>\n",
       "      <td>Honda Pop 110i</td>\n",
       "      <td>8.771</td>\n",
       "      <td>8.255</td>\n",
       "      <td>12.620</td>\n",
       "      <td>10.280</td>\n",
       "      <td>16.035</td>\n",
       "      <td>13.744</td>\n",
       "      <td>12.172</td>\n",
       "      <td>13.783</td>\n",
       "      <td>13.280</td>\n",
       "      <td>13.287</td>\n",
       "      <td>13.390</td>\n",
       "      <td>13.928</td>\n",
       "      <td>149.545</td>\n",
       "    </tr>\n",
       "    <tr>\n",
       "      <th>3</th>\n",
       "      <td>4º</td>\n",
       "      <td>Honda Biz 125</td>\n",
       "      <td>8.836</td>\n",
       "      <td>8.922</td>\n",
       "      <td>13.021</td>\n",
       "      <td>10.284</td>\n",
       "      <td>12.931</td>\n",
       "      <td>11.310</td>\n",
       "      <td>8.299</td>\n",
       "      <td>12.994</td>\n",
       "      <td>13.707</td>\n",
       "      <td>14.947</td>\n",
       "      <td>14.459</td>\n",
       "      <td>14.670</td>\n",
       "      <td>144.380</td>\n",
       "    </tr>\n",
       "    <tr>\n",
       "      <th>4</th>\n",
       "      <td>5º</td>\n",
       "      <td>Honda Biz 110i</td>\n",
       "      <td>4.961</td>\n",
       "      <td>4.409</td>\n",
       "      <td>6.509</td>\n",
       "      <td>5.086</td>\n",
       "      <td>5.378</td>\n",
       "      <td>7.308</td>\n",
       "      <td>5.452</td>\n",
       "      <td>5.849</td>\n",
       "      <td>6.382</td>\n",
       "      <td>6.603</td>\n",
       "      <td>6.758</td>\n",
       "      <td>7.561</td>\n",
       "      <td>72.256</td>\n",
       "    </tr>\n",
       "  </tbody>\n",
       "</table>\n",
       "</div>"
      ],
      "text/plain": [
       "  Pos.             Veículo     Jan     Fev     Mar     Abr     Mai     Jun  \\\n",
       "0   1º        Honda CG 160  30.386  27.109  39.754  33.689  43.444  36.194   \n",
       "1   2º  Honda NXR 160 Bros  10.104   9.474  14.103  11.443  15.455  13.492   \n",
       "2   3º      Honda Pop 110i   8.771   8.255  12.620  10.280  16.035  13.744   \n",
       "3   4º       Honda Biz 125   8.836   8.922  13.021  10.284  12.931  11.310   \n",
       "4   5º      Honda Biz 110i   4.961   4.409   6.509   5.086   5.378   7.308   \n",
       "\n",
       "      Jul     Ago     Set     Out     Nov     Dez    Total  \n",
       "0  29.862  36.843  34.991  34.097  35.611  36.802  418.782  \n",
       "1  11.588  14.119  12.261  12.619  12.398  12.664  149.720  \n",
       "2  12.172  13.783  13.280  13.287  13.390  13.928  149.545  \n",
       "3   8.299  12.994  13.707  14.947  14.459  14.670  144.380  \n",
       "4   5.452   5.849   6.382   6.603   6.758   7.561   72.256  "
      ]
     },
     "execution_count": 8,
     "metadata": {},
     "output_type": "execute_result"
    }
   ],
   "source": [
    "# Verificando Dataset\n",
    "\n",
    "df.head()"
   ]
  },
  {
   "cell_type": "code",
   "execution_count": 7,
   "id": "05c929c8",
   "metadata": {},
   "outputs": [
    {
     "data": {
      "text/plain": [
       "(236, 15)"
      ]
     },
     "execution_count": 7,
     "metadata": {},
     "output_type": "execute_result"
    }
   ],
   "source": [
    "# Dimensão do Dataset\n",
    "\n",
    "df.shape"
   ]
  },
  {
   "cell_type": "code",
   "execution_count": 8,
   "id": "0c981d2f",
   "metadata": {},
   "outputs": [
    {
     "data": {
      "text/plain": [
       "Index(['Pos.', 'Veículo', 'Jan', 'Fev', 'Mar', 'Abr', 'Mai', 'Jun', 'Jul',\n",
       "       'Ago', 'Set', 'Out', 'Nov', 'Dez', 'Total'],\n",
       "      dtype='object')"
      ]
     },
     "execution_count": 8,
     "metadata": {},
     "output_type": "execute_result"
    }
   ],
   "source": [
    "# Verificando as Colunas \n",
    "\n",
    "df.columns"
   ]
  },
  {
   "cell_type": "code",
   "execution_count": 9,
   "id": "68e2020c",
   "metadata": {},
   "outputs": [
    {
     "name": "stdout",
     "output_type": "stream",
     "text": [
      "<class 'pandas.core.frame.DataFrame'>\n",
      "RangeIndex: 236 entries, 0 to 235\n",
      "Data columns (total 15 columns):\n",
      " #   Column   Non-Null Count  Dtype \n",
      "---  ------   --------------  ----- \n",
      " 0   Pos.     236 non-null    object\n",
      " 1   Veículo  236 non-null    object\n",
      " 2   Jan      236 non-null    object\n",
      " 3   Fev      236 non-null    object\n",
      " 4   Mar      236 non-null    object\n",
      " 5   Abr      236 non-null    object\n",
      " 6   Mai      236 non-null    object\n",
      " 7   Jun      236 non-null    object\n",
      " 8   Jul      236 non-null    object\n",
      " 9   Ago      236 non-null    object\n",
      " 10  Set      236 non-null    object\n",
      " 11  Out      236 non-null    object\n",
      " 12  Nov      236 non-null    object\n",
      " 13  Dez      236 non-null    object\n",
      " 14  Total    236 non-null    object\n",
      "dtypes: object(15)\n",
      "memory usage: 27.8+ KB\n"
     ]
    }
   ],
   "source": [
    "# Informações do Dataset\n",
    "\n",
    "df.info()"
   ]
  },
  {
   "cell_type": "code",
   "execution_count": 10,
   "id": "06f2253a",
   "metadata": {},
   "outputs": [
    {
     "data": {
      "text/plain": [
       "Pos.       0\n",
       "Veículo    0\n",
       "Jan        0\n",
       "Fev        0\n",
       "Mar        0\n",
       "Abr        0\n",
       "Mai        0\n",
       "Jun        0\n",
       "Jul        0\n",
       "Ago        0\n",
       "Set        0\n",
       "Out        0\n",
       "Nov        0\n",
       "Dez        0\n",
       "Total      0\n",
       "dtype: int64"
      ]
     },
     "execution_count": 10,
     "metadata": {},
     "output_type": "execute_result"
    }
   ],
   "source": [
    "# Verificando se há Valores Nulos \n",
    "\n",
    "df.isnull().sum()"
   ]
  },
  {
   "cell_type": "markdown",
   "id": "9bac143c",
   "metadata": {},
   "source": [
    "## Perguntas de Negócio"
   ]
  },
  {
   "cell_type": "markdown",
   "id": "94452ac0",
   "metadata": {},
   "source": [
    "###### 1_ No Preimeiro Semestre qual foi o mês que teve o maior número de vendas?"
   ]
  },
  {
   "cell_type": "code",
   "execution_count": 11,
   "id": "14cedbff",
   "metadata": {},
   "outputs": [
    {
     "name": "stdout",
     "output_type": "stream",
     "text": [
      "O mês com o maior número de vendas no Primeiro Semestre é: Mai\n"
     ]
    }
   ],
   "source": [
    "# Filtrando os Dados do Primeiro Semestre\n",
    "\n",
    "vendas_primeiro_sem = df.loc[:, 'Jan':'Jun']\n",
    "\n",
    "# Calculando o total de vendas no primeiro semestre \n",
    "\n",
    "total_vendas_primeiro_sem = vendas_primeiro_sem.sum()\n",
    "\n",
    "# Encontrando o valor máximo de vendas no Primeiro Semestre\n",
    "\n",
    "max_vendas = total_vendas_primeiro_sem.max()\n",
    "\n",
    "# Encontrando o mês com o maior número de vendas no Primeiro Semestre\n",
    "\n",
    "mes_maior_vendas = total_vendas_primeiro_sem[total_vendas_primeiro_sem == max_vendas].index[0]\n",
    "\n",
    "print(\"O mês com o maior número de vendas no Primeiro Semestre é:\", mes_maior_vendas)"
   ]
  },
  {
   "cell_type": "markdown",
   "id": "47a9f1f7",
   "metadata": {},
   "source": [
    "###### 2_ No Primeiro Semestre qual foi o mês que teve o menor número de vendas?"
   ]
  },
  {
   "cell_type": "code",
   "execution_count": 12,
   "id": "3d189678",
   "metadata": {},
   "outputs": [
    {
     "name": "stdout",
     "output_type": "stream",
     "text": [
      "O Mês com o menor número de vendas no Primeiro Semestre é: Fev\n"
     ]
    }
   ],
   "source": [
    "# Filtrando os Dados do Primeiro Semestre \n",
    "\n",
    "vendas_primeiro_sem = df.loc[:,'Jan':'Jun']\n",
    "\n",
    "# Calculando o total de vendas no Primeiro Semestre\n",
    "\n",
    "total_vendas_primeiro_sem = vendas_primeiro_sem.sum()\n",
    "\n",
    "# Encontrando o valor mínimo de vendas no Primeiro Semestre \n",
    "\n",
    "min_vendas = total_vendas_primeiro_sem.min()\n",
    "\n",
    "# Encontrando o Mês com o menor número de vendas no Primeiro Semestre \n",
    "\n",
    "mes_menor_vendas = total_vendas_primeiro_sem [total_vendas_primeiro_sem == min_vendas].index[0]\n",
    "\n",
    "print('O Mês com o menor número de vendas no Primeiro Semestre é:',mes_menor_vendas)"
   ]
  },
  {
   "cell_type": "markdown",
   "id": "9748bb29",
   "metadata": {},
   "source": [
    "###### 3_ No segundo semestre qual mês teve o maior número de vendas?"
   ]
  },
  {
   "cell_type": "code",
   "execution_count": 13,
   "id": "73ec7119",
   "metadata": {},
   "outputs": [
    {
     "name": "stdout",
     "output_type": "stream",
     "text": [
      "O mês com o maior número de vendas no Segundo Semestre é: Ago\n"
     ]
    }
   ],
   "source": [
    "# Filtrando os meses do Segundo Semestre\n",
    "\n",
    "vendas_segundo_sem = df.loc[:, 'Jul': 'Dez']\n",
    "\n",
    "# Calculando o Total de Vendas no Segundo Semestre\n",
    "\n",
    "total_vendas_segundo_sem = vendas_segundo_sem.sum()\n",
    "\n",
    "# Encontrando o valor máximo no Segundo Semestre\n",
    "\n",
    "max_vendas = total_vendas_segundo_sem.max()\n",
    "\n",
    "# Identificando o mês com o maior número de vendas\n",
    "\n",
    "mes_maior_vendas = total_vendas_segundo_sem[total_vendas_segundo_sem == max_vendas].index[0]\n",
    "\n",
    "print('O mês com o maior número de vendas no Segundo Semestre é:', mes_maior_vendas)"
   ]
  },
  {
   "cell_type": "markdown",
   "id": "a4cfc25f",
   "metadata": {},
   "source": [
    "###### 4_ No segundo semestre qual mês teve o menor número de vendas? "
   ]
  },
  {
   "cell_type": "code",
   "execution_count": 14,
   "id": "68fa39d0",
   "metadata": {},
   "outputs": [
    {
     "name": "stdout",
     "output_type": "stream",
     "text": [
      "O mês com o maior número de vendas no Segundo Semestre é: Jul\n"
     ]
    }
   ],
   "source": [
    "# Filtrando os meses do Segundo Semestre\n",
    "\n",
    "vendas_segundo_sem = df.loc[:, 'Jul': 'Dez']\n",
    "\n",
    "# Calculando o Total de Vendas no Segundo Semestre\n",
    "\n",
    "total_vendas_segundo_sem = vendas_segundo_sem.sum()\n",
    "\n",
    "# Encontrando o valor máximo no Segundo Semestre\n",
    "\n",
    "min_vendas = total_vendas_segundo_sem.min()\n",
    "\n",
    "# Identificando o mês com o maior número de vendas\n",
    "\n",
    "mes_menor_vendas = total_vendas_segundo_sem[total_vendas_segundo_sem == min_vendas].index[0]\n",
    "\n",
    "print('O mês com o maior número de vendas no Segundo Semestre é:', mes_menor_vendas)"
   ]
  },
  {
   "cell_type": "markdown",
   "id": "adaf3125",
   "metadata": {},
   "source": [
    "###### 5_ Identifique qual foi o mês de maior e menor desempenho em vendas durante o ano?"
   ]
  },
  {
   "cell_type": "code",
   "execution_count": 15,
   "id": "9e301e60",
   "metadata": {},
   "outputs": [
    {
     "name": "stdout",
     "output_type": "stream",
     "text": [
      "1_ O Mês com o maior número de vendas durante o ano é Mai\n",
      "2_ O Mês com o menor número de vendas durante o ano é Fev\n"
     ]
    }
   ],
   "source": [
    "# Filtrando os Dados \n",
    "\n",
    "vendas_ano = df.loc[:, 'Jan': 'Dez']\n",
    "\n",
    "# Calculando o total de vendas \n",
    "\n",
    "total_vendas_ano = vendas_ano.sum()\n",
    "\n",
    "# Encontrando o valor máximo\n",
    "\n",
    "max_maior_vendas = total_vendas_ano.max()\n",
    "\n",
    "# Identificanddo o mês com o valor máximo\n",
    "\n",
    "mes_maior_vendas = total_vendas_ano[total_vendas_ano == max_maior_vendas].index[0]\n",
    "\n",
    "# Encotrando o valor mínimo \n",
    "\n",
    "min_menor_vendas = total_vendas_ano.min()\n",
    "\n",
    "# Identificando o mês com o valor mínimo \n",
    "\n",
    "mes_menor_vendas = total_vendas_ano[total_vendas_ano == min_menor_vendas].index[0]\n",
    "\n",
    "print('1_ O Mês com o maior número de vendas durante o ano é', mes_maior_vendas)\n",
    "print('2_ O Mês com o menor número de vendas durante o ano é', mes_menor_vendas)"
   ]
  },
  {
   "cell_type": "markdown",
   "id": "fe9e0eb0",
   "metadata": {},
   "source": [
    "###### 6_ Quais foram as 10 motos mais vendidas durante o ano?"
   ]
  },
  {
   "cell_type": "code",
   "execution_count": 36,
   "id": "3fb157ac",
   "metadata": {},
   "outputs": [
    {
     "name": "stdout",
     "output_type": "stream",
     "text": [
      "                 Veículo Pos.  Total Vendas\n",
      "0           Honda CG 160   1º       418.782\n",
      "1     Honda NXR 160 Bros   2º       149.720\n",
      "2         Honda Pop 110i   3º       149.545\n",
      "3          Honda Biz 125   4º       144.380\n",
      "4         Honda Biz 110i   5º        72.256\n",
      "5  Honda CB 300F Twister   6º        77.917\n",
      "6      Yamaha Factor 150   7º        43.415\n",
      "7          Yamaha Lander   8º        41.617\n",
      "8      Yamaha Fazer FZ25   9º        41.078\n",
      "9          Honda PCX 160  10º        38.760\n"
     ]
    }
   ],
   "source": [
    "total_vendas = df.loc[:, 'Jan':'Dez'].sum(axis=1)\n",
    "\n",
    "# Filtrando os Dados dos Veículos\n",
    "\n",
    "posicao_veiculo = df[['Veículo','Pos.']]\n",
    "\n",
    "# Identificando os dez mais vendidos\n",
    "\n",
    "dez_mais_vendidos = veiculos_vendidos.head(10)\n",
    "\n",
    "print(dez_mais_vendidos)"
   ]
  },
  {
   "cell_type": "code",
   "execution_count": 32,
   "id": "f0af0102",
   "metadata": {},
   "outputs": [
    {
     "name": "stdout",
     "output_type": "stream",
     "text": [
      "As Dez motos mais vendidas foram:\n",
      "1º Honda CG 160\n",
      "2º Honda NXR 160 Bros\n",
      "3º Honda Pop 110i\n",
      "4º Honda Biz 125\n",
      "5º Honda Biz 110i\n",
      "6º Honda CB 300F Twister\n",
      "7º Yamaha Factor 150\n",
      "8º Yamaha Lander\n",
      "9º Yamaha Fazer FZ25\n",
      "10º Honda PCX 160\n"
     ]
    }
   ],
   "source": [
    "print('As Dez motos mais vendidas foram:')\n",
    "print('1º Honda CG 160')\n",
    "print('2º Honda NXR 160 Bros')\n",
    "print('3º Honda Pop 110i')\n",
    "print('4º Honda Biz 125')\n",
    "print('5º Honda Biz 110i')\n",
    "print('6º Honda CB 300F Twister')\n",
    "print('7º Yamaha Factor 150')\n",
    "print('8º Yamaha Lander')\n",
    "print('9º Yamaha Fazer FZ25')\n",
    "print('10º Honda PCX 160')"
   ]
  },
  {
   "cell_type": "markdown",
   "id": "e5fb8cbf",
   "metadata": {},
   "source": [
    "###### 7_ Quais foram as 10 motos menos vendidas durante o ano?"
   ]
  },
  {
   "cell_type": "code",
   "execution_count": 37,
   "id": "8d2236ed",
   "metadata": {},
   "outputs": [
    {
     "name": "stdout",
     "output_type": "stream",
     "text": [
      "                     Veículo  Pos.  Total Vendas\n",
      "235             Vmoto TC Max  236º           1.0\n",
      "234          Shineray XY 110  235º           1.0\n",
      "226             KTM 200 Duke  227º           1.0\n",
      "227             Shineray PT7  228º           1.0\n",
      "228             Avelloz Free  229º           1.0\n",
      "229  Ducati Multistrada 1260  230º           1.0\n",
      "230                BMW CE 04  231º           1.0\n",
      "231                 Vmoto Cu  232º           1.0\n",
      "232        Dafra Horizon 150  233º           1.0\n",
      "233      Triumph Street Twin  234º           1.0\n"
     ]
    }
   ],
   "source": [
    "# Filtrando os Dados de Vendas \n",
    "\n",
    "total_vendas = df.loc[:, 'Jan':'Dez'].sum(axis=1)\n",
    "\n",
    "# Filtrando os Dados dos Veículos\n",
    "\n",
    "posicao_veiculo = df[['Veículo', 'Pos.']]\n",
    "\n",
    "# Identificando os Dez Menos Vendidos\n",
    "\n",
    "veiculos_vendidos = veiculos_vendidos.sort_values(by='Total Vendas', ascending=True)\n",
    "dez_menos_vendidos = veiculos_vendidos.head(10)\n",
    "\n",
    "print(dez_menos_vendidos)"
   ]
  },
  {
   "cell_type": "code",
   "execution_count": 19,
   "id": "2867413f",
   "metadata": {},
   "outputs": [
    {
     "name": "stdout",
     "output_type": "stream",
     "text": [
      "As Dez motos menos vendidas foram:\n",
      "1º Vmoto TC Max\n",
      "2º KTM 200 Duke\n",
      "3º Shineray PT7\n",
      "4º Avelloz Free\n",
      "5º Ducati Multistrada 1260\n",
      "6º Shineray XY 110\n",
      "7º Vmoto Cu\n",
      "8º Dafra Horizon 150\n",
      "9º Triumph Street Twin\n",
      "10º BMW CE 04\n"
     ]
    }
   ],
   "source": [
    "print('As Dez motos menos vendidas foram:')\n",
    "print('1º Vmoto TC Max')\n",
    "print('2º KTM 200 Duke')\n",
    "print('3º Shineray PT7')\n",
    "print('4º Avelloz Free')\n",
    "print('5º Ducati Multistrada 1260')\n",
    "print('6º Shineray XY 110')\n",
    "print('7º Vmoto Cu')\n",
    "print('8º Dafra Horizon 150')\n",
    "print('9º Triumph Street Twin')\n",
    "print('10º BMW CE 04')"
   ]
  },
  {
   "cell_type": "markdown",
   "id": "db0fd491",
   "metadata": {},
   "source": [
    "###### 8_ Considerando os dados de vendas de motocicletas ao longo do ano, qual é a distribuição de vendas entre os fabricantes de motocicletas mais populares?"
   ]
  },
  {
   "cell_type": "code",
   "execution_count": 39,
   "id": "9bdcf18d",
   "metadata": {},
   "outputs": [
    {
     "name": "stdout",
     "output_type": "stream",
     "text": [
      "Fabricante\n",
      "Yamaha             41090.205\n",
      "Honda              26376.357\n",
      "Haojue             15988.000\n",
      "BMW                13988.000\n",
      "Shineray           13241.212\n",
      "Royal              12377.000\n",
      "Avelloz             9360.000\n",
      "Kawasaki            8290.000\n",
      "Triumph             6452.000\n",
      "Dafra               6092.000\n",
      "Bajaj               3956.000\n",
      "Mottu               3276.364\n",
      "Harley-Davidson     1907.000\n",
      "Suzuki              1803.000\n",
      "Voltz               1734.000\n",
      "Ducati              1180.000\n",
      "Bull                 730.000\n",
      "Zontes               728.000\n",
      "Sousa                689.000\n",
      "Origem               512.000\n",
      "Watts                437.000\n",
      "Amazon               374.000\n",
      "Vmoto                263.000\n",
      "Traxx                254.000\n",
      "KTM                  153.000\n",
      "Niu                  135.000\n",
      "Kymco                 64.000\n",
      "Motorino              58.000\n",
      "Vespa                 41.000\n",
      "Piaggio               19.000\n",
      "Husqvarna              5.000\n",
      "Name: Total Vendas, dtype: float64\n"
     ]
    }
   ],
   "source": [
    "# Verificar a estrutura do DataFrame e converter colunas de vendas para numérico\n",
    "df.loc[:, 'Jan':'Dez'] = df.loc[:, 'Jan':'Dez'].apply(pd.to_numeric, errors='coerce')\n",
    "\n",
    "# Filtrando os Dados de Vendas\n",
    "total_vendas = df.loc[:, 'Jan':'Dez'].sum(axis=1)\n",
    "\n",
    "# Filtrando os Dados dos Veículos\n",
    "posicao_veiculo = df[['Veículo', 'Pos.']]\n",
    "\n",
    "# Combinando os Dados de Vendas e Veículos\n",
    "veiculos_vendidos = posicao_veiculo.copy()\n",
    "veiculos_vendidos['Total Vendas'] = total_vendas\n",
    "\n",
    "# Extraindo o nome do fabricante dos nomes dos veículos\n",
    "veiculos_vendidos['Fabricante'] = veiculos_vendidos['Veículo'].str.split(n=1).str[0]\n",
    "\n",
    "# Calculando o total de vendas por fabricante\n",
    "vendas_por_fabricante = veiculos_vendidos.groupby('Fabricante')['Total Vendas'].sum().sort_values(ascending=False)\n",
    "\n",
    "# Imprimindo o resultado\n",
    "print(vendas_por_fabricante)"
   ]
  },
  {
   "cell_type": "markdown",
   "id": "848cf269",
   "metadata": {},
   "source": [
    "###### 9_ Qual é a participação de mercado de cada fabricante de motocicletas com base nas vendas totais ao longo do ano?"
   ]
  },
  {
   "cell_type": "code",
   "execution_count": 41,
   "id": "e6bd8df2",
   "metadata": {},
   "outputs": [
    {
     "data": {
      "image/png": "[encoded data removed]",
      "text/plain": [
       "<Figure size 1400x800 with 1 Axes>"
      ]
     },
     "metadata": {},
     "output_type": "display_data"
    }
   ],
   "source": [
    "# Verificar a estrutura do DataFrame e converter colunas de vendas para numérico\n",
    "df.loc[:, 'Jan':'Dez'] = df.loc[:, 'Jan':'Dez'].apply(pd.to_numeric, errors='coerce')\n",
    "\n",
    "# Filtrando os Dados de Vendas\n",
    "total_vendas = df.loc[:, 'Jan':'Dez'].sum(axis=1)\n",
    "\n",
    "# Filtrando os Dados dos Veículos\n",
    "posicao_veiculo = df[['Veículo', 'Pos.']]\n",
    "\n",
    "# Combinando os Dados de Vendas e Veículos\n",
    "veiculos_vendidos = posicao_veiculo.copy()\n",
    "veiculos_vendidos['Total Vendas'] = total_vendas\n",
    "\n",
    "# Extraindo o nome do fabricante dos nomes dos veículos\n",
    "veiculos_vendidos['Fabricante'] = veiculos_vendidos['Veículo'].str.split(n=1).str[0]\n",
    "\n",
    "# Calculando o total de vendas por fabricante\n",
    "vendas_por_fabricante = veiculos_vendidos.groupby('Fabricante')['Total Vendas'].sum().sort_values(ascending=False)\n",
    "\n",
    "# Calculando a porcentagem de mercado de cada fabricante\n",
    "porcentagem_mercado = (vendas_por_fabricante / vendas_por_fabricante.sum()) * 100\n",
    "\n",
    "# Criar um gráfico de barras\n",
    "plt.figure(figsize=(14, 8))\n",
    "porcentagem_mercado.plot(kind='bar', color='red')\n",
    "plt.title('Participação de Mercado de Fabricantes de Motocicletas')\n",
    "plt.xlabel('Fabricante')\n",
    "plt.ylabel('Porcentagem de Mercado')\n",
    "plt.xticks(rotation=45, ha='right')\n",
    "plt.tight_layout()\n",
    "plt.show()"
   ]
  },
  {
   "cell_type": "markdown",
   "id": "f93966dc",
   "metadata": {},
   "source": [
    "##### 10_ Quais fabricantes têm uma presença mais significativa entre as dez motocicletas mais vendidas, considerando o número total de unidades vendidas de cada modelo?"
   ]
  },
  {
   "cell_type": "code",
   "execution_count": 45,
   "id": "7e88c6a0",
   "metadata": {},
   "outputs": [
    {
     "name": "stdout",
     "output_type": "stream",
     "text": [
      "Yamaha      4\n",
      "Honda       2\n",
      "Avelloz     1\n",
      "BMW         1\n",
      "Shineray    1\n",
      "Royal       1\n",
      "Name: Fabricante, dtype: int64\n"
     ]
    }
   ],
   "source": [
    "# Encontrando as dez motocicletas mais vendidas\n",
    "\n",
    "dez_mais_vendidas = veiculos_vendidos.nlargest(10, 'Total Vendas')\n",
    "\n",
    "# Extraindo o nome do fabricante dos nomes dos veículos das dez mais vendidas\n",
    "\n",
    "dez_mais_vendidas['Fabricante'] = dez_mais_vendidas['Veículo'].str.split(n=1).str[0]\n",
    "\n",
    "# Contando a frequência de cada fabricante entre as dez motocicletas mais vendidas\n",
    "\n",
    "fabricantes_contagem = dez_mais_vendidas['Fabricante'].value_counts()\n",
    "\n",
    "print(fabricantes_contagem)"
   ]
  },
  {
   "cell_type": "code",
   "execution_count": 43,
   "id": "b4fcca7b",
   "metadata": {},
   "outputs": [
    {
     "name": "stdout",
     "output_type": "stream",
     "text": [
      "Os Fabricantes mais proeminentes são Honda e Yamaha\n"
     ]
    }
   ],
   "source": [
    "print('Os Fabricantes mais proeminentes são Honda e Yamaha')"
   ]
  },
  {
   "cell_type": "markdown",
   "id": "a7b94efe",
   "metadata": {},
   "source": [
    "### Insights\n",
    "\n",
    "Tendo como base as análises realizadas, as empresas do setor de motocicletas devem prestar atenção aos padrões sazonais de vendas identificados. Por exemplo, saber qual mês do primeiro semestre teve o maior número de vendas pode indicar uma tendência sazonal que pode ser explorada com campanhas de marketing direcionadas ou promoções. Da mesma forma, identificar os meses com menor número de vendas pode ajudar as empresas a entender períodos de menor demanda, permitindo ajustes estratégicos no estoque e na alocação de recursos.\n",
    "\n",
    "##### Analisando os Resultados\n",
    "\n",
    "* Meses de Maior Desempenho:\n",
    "\n",
    "Meses com maiores vendas, como por exemplo, janeiro no primeiro semestre e julho no segundo semestre, podem ser períodos onde há uma maior demanda sazonal. As empresas podem explorar essas oportunidades lançando novos modelos ou promovendo ofertas especiais para maximizar os lucros.\n",
    "\n",
    "* Meses de Menor Desempenho:\n",
    "\n",
    "Meses com menor número de vendas, como junho e dezembro, podem indicar períodos de menor procura. Isso pode ser devido a vários fatores, como clima, feriados ou outros eventos sazonais. Identificar essas tendências permite que as empresas planejem melhor suas estratégias de marketing e estoque.\n",
    "\n",
    "* Distribuição de Vendas e Participação de Mercado:\n",
    "\n",
    "A análise de distribuição de vendas entre os fabricantes mais populares fornece insights sobre a competitividade no mercado. Fabricantes com maior participação de mercado podem estar dominando devido a fatores como qualidade do produto, preço competitivo ou marca forte.\n",
    "\n",
    "* Presença de Fabricantes nas Top 10 Vendas:\n",
    "\n",
    "Entender quais fabricantes têm uma presença mais significativa entre as motos mais vendidas pode indicar quais marcas estão capturando mais o interesse dos consumidores. Isso pode guiar decisões sobre parcerias, desenvolvimento de produtos e estratégias de marketing.\n",
    "\n",
    "Contudo, ao compreender e agir com base nesses padrões de vendas ao longo do ano, as empresas de motocicletas podem melhorar seu desempenho, satisfazer as necessidades dos clientes e manter uma vantagem competitiva no mercado. Além disso, a análise detalhada dos dados de vendas pode ajudar as empresas a tomar decisões informadas sobre produção, estoque e campanhas promocionais, maximizando assim sua eficiência operacional e potencial de lucro."
   ]
  }
 ],
 "metadata": {
  "kernelspec": {
   "display_name": "Python 3 (ipykernel)",
   "language": "python",
   "name": "python3"
  },
  "language_info": {
   "codemirror_mode": {
    "name": "ipython",
    "version": 3
   },
   "file_extension": ".py",
   "mimetype": "text/x-python",
   "name": "python",
   "nbconvert_exporter": "python",
   "pygments_lexer": "ipython3",
   "version": "3.9.13"
  }
 },
 "nbformat": 4,
 "nbformat_minor": 5
}
